{
 "cells": [
  {
   "cell_type": "markdown",
   "source": [
    "img.png\n",
    "## What do we have in the task?\n",
    "Wheel 1:\n",
    "$r_1 = 2 cm$, $R_1 = 4 cm$\n",
    "Wheel 2:\n",
    "$r_2 = 6 cm$, $R_2 = 8 cm$\n",
    "Wheel 3:\n",
    "$r_3 = 12 cm$, $R_3 = 16 cm$\n",
    "\n",
    "Load:\n",
    "law of morion: $s_5 = t^3 - 6t$\n",
    "\n",
    "## Task:\n",
    "Find (t=2)\n",
    "1. velocities of A, C\n",
    "2. angular acc of 3\n",
    "3. acc of B and 4.\n",
    "\n"
   ],
   "metadata": {
    "collapsed": false,
    "pycharm": {
     "name": "#%% md\n"
    }
   }
  },
  {
   "cell_type": "markdown",
   "source": [
    "Solution:\n",
    "$V_5 = \\dot{s_5}$\n",
    "## Disk 3\n",
    "The linear velocity of the load is equal to linear velocity of its join point on the 3-rd disk.\n",
    "So, $V_{3r_3} = V_5$\n",
    "The angular velocity of 3 disk is $\\omega_3 = \\frac{V_{3r_3}}{r_3} = \\dot{s_5}/r_3 = (3 t^2 - 6)/12 = \\frac{t^2}{4} - 0.5$\n",
    "--The tangent acceleration on the join point between load 5 and disc 3 is equal to $\\ddot{s_5}$\n",
    "Using the angular velocity formula, it is easy to find angular acceleration:\n",
    "$\\epsilon_3 = \\dot{\\omega_3} = \\frac{\\dot V_{3r_3}}{r_3} R_3 =\\frac{t}{2}$\n",
    "The linear speed of the point C can be found with the formula:\n",
    "$$V_C = {\\omega_3}\\times{R_3} = \\frac{V_{3r_3}}{r_3} R_3 = (\\frac{t^2}{4} - 0.5) * 16 = 4t^2 - 8$$\n",
    "$$a^\\tau_c = \\epsilon_3 R_3$$\n",
    "## Disk 2\n",
    "The absolute value of the linear velocity of the second disc is equal to linear velocity of the point C.\n",
    "$V_{r_2}=V_C$\n",
    "The tangent acceleration of the points on the $R_3$ and $r_2$ are equal, since the load is un-elastic. Therefore, $a^\\tau_{r_2} = \\epsilon_3 R_3 =\\epsilon_2 r_2$\n",
    "$$\\epsilon_2 = \\frac{\\epsilon_3 R_3}{r_2} = \\frac{16}{2*6}t = \\frac{4}{3}t$$\n",
    "$$\\omega_2 = \\frac{{\\omega_3}\\times{R_3}}{r_2} = \\frac{R_3}{r_2}(\\frac{V_{3r_3}}{r_3}) = \\frac{16*(3t^2- 6)}{6*12} = \\frac{2(t^2 -2)}{3}  $$\n",
    "### Point B\n",
    "$$a^n_B = \\omega^2_2 R_2 =  8(\\frac{2(t^2 -2)}{3})^2  = \\frac{8*4}{9}(t^2 - 2)^2$$\n",
    "$$a^\\tau_B = \\epsilon_2 R_2 = \\frac{8*4}{3}t$$\n",
    "$$a_B = \\sqrt{{a^n_B}^2 + {a^\\tau_B }^2} = \\sqrt{(\\frac{8*4}{9})^2 (t^2 -2)^4 + {(\\frac{32}{3}})^2 t^2$$\n",
    "$$V_B = \\omega_2 \\times R_2 =  \\frac{R_2 R_3}{r_2}(\\frac{V_{3r_3}}{r_3})$$\n"
   ],
   "metadata": {
    "collapsed": false,
    "pycharm": {
     "name": "#%% md\n"
    }
   }
  },
  {
   "cell_type": "code",
   "execution_count": 27,
   "outputs": [
    {
     "name": "stdout",
     "output_type": "stream",
     "text": [
      "epsilon_3 =  1.0\n",
      "v_c =  8.0\n",
      "a_b =  25.63947573663281\n"
     ]
    }
   ],
   "source": [
    "import numpy as np\n",
    "\n",
    "t = 2\n",
    "r_1 = 2\n",
    "r_2 = 6\n",
    "r_3 = 12\n",
    "R_1 = 4\n",
    "R_2 = 8\n",
    "R_3 = 16\n",
    "epsilon_3 = t / 2\n",
    "epsilon_2 = epsilon_3 * R_3 / r_2\n",
    "\n",
    "omega_3 = (3 * t ** 2 - 6) / r_3\n",
    "omega_2 = omega_3 * R_3 / r_2\n",
    "print(\"epsilon_3 = \", t / 2)\n",
    "print(\"v_c = \", (3 * t ** 2 - 6) / r_3 * R_3)\n",
    "print(\"a_b = \", np.sqrt((omega_2 ** 2 * R_2) ** 2 + (epsilon_2 * R_2) ** 2))"
   ],
   "metadata": {
    "collapsed": false,
    "pycharm": {
     "name": "#%%\n"
    }
   }
  },
  {
   "cell_type": "markdown",
   "source": [
    "## Disk 2\n",
    "Linear velocity of the points of joint of the disk 1 and outside radius of disc 2 are equal by magnitude and have opposite directions.\n",
    "$V_r_1 = V_R_2 = V_B$\n",
    "$\\omega_1 = \\frac{V_r_1}{r_1} = \\frac{V_B}{r_1}$\n",
    "$a^\\tau_r_1 = a^\\tau_B = \\epsilon_1 * r_1$\n",
    "$\\epsilon_1 = \\frac{a^\\tau_B}{r_1}$\n",
    "### Point A\n",
    "$$V_A = \\omega_1 R_1 = \\frac{V_B R_1}{r_1} = \\frac{R_2 R_3 R_1}{r_2 r_1}(\\frac{V_{3r_3}}{r_3})$$\n",
    "$$a^\\tau_A = \\epsilon_1 * R_1 = \\frac{a^\\tau_B R_1}{r_1} = \\frac{\\dot{V_{3r_3}} R_3 R_2 R_1}{r_1 r_2 r_3}$$\n",
    "\n",
    "## Rack\n",
    "$a_4 =a^\\tau_A = \\epsilon_1 * R_1 = \\frac{a^\\tau_B R_1}{r_1} = \\frac{\\epsilon_3 R_3 R_2 R_1}{r_1 r_2}$"
   ],
   "metadata": {
    "collapsed": false,
    "pycharm": {
     "name": "#%% md\n"
    }
   }
  },
  {
   "cell_type": "code",
   "execution_count": 29,
   "outputs": [
    {
     "name": "stdout",
     "output_type": "stream",
     "text": [
      "V_a =  7.111111111111111\n",
      "a_4 =  21.333333333333332\n"
     ]
    }
   ],
   "source": [
    "V_a = 16 * 8 * 4 * (2 * (t ** 2) - 6) / (2 * 6 * 12)\n",
    "print(\"V_a = \", V_a)\n",
    "a_4 = 16 * 8 * 4 / (2 * 12)  ## epsilon_3 = 1\n",
    "print(\"a_4 = \", a_4)"
   ],
   "metadata": {
    "collapsed": false,
    "pycharm": {
     "name": "#%%\n"
    }
   }
  }
 ],
 "metadata": {
  "kernelspec": {
   "display_name": "Python 3",
   "language": "python",
   "name": "python3"
  },
  "language_info": {
   "codemirror_mode": {
    "name": "ipython",
    "version": 2
   },
   "file_extension": ".py",
   "mimetype": "text/x-python",
   "name": "python",
   "nbconvert_exporter": "python",
   "pygments_lexer": "ipython2",
   "version": "2.7.6"
  }
 },
 "nbformat": 4,
 "nbformat_minor": 0
}