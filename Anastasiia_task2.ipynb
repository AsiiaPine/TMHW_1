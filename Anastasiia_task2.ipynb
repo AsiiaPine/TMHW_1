{
 "cells": [
  {
   "cell_type": "code",
   "execution_count": 3,
   "outputs": [
    {
     "name": "stderr",
     "output_type": "stream",
     "text": [
      "UsageError: Line magic function `%` not found.\n"
     ]
    }
   ],
   "source": [
    "from math import cos, sin\n",
    "import numpy as np\n",
    "import matplotlib.pyplot as plt\n",
    "from matplotlib.animation import FuncAnimation\n",
    "% matplotlib notebook"
   ],
   "metadata": {
    "collapsed": false,
    "pycharm": {
     "name": "#%%\n"
    }
   }
  },
  {
   "cell_type": "markdown",
   "source": [
    "# Given:\n",
    "$$ \\omega_{OA} = const = 1 rad/s\\\\\n",
    "OA = OP = 25\\\\\n",
    "AB = 80 \\\\\n",
    "AC = 20$$\n",
    "\n",
    "# The task: simulate this mechanism.\n",
    "\n",
    "# Solution:\n",
    "To simulate the mechanism we have to find the formulas for $\\phi(t)$,  $x_a(t)$, $y_a(t)$, $x_b(t)$, $y_b(t)$, $x_c(t)$, $y_c(t)$.\n",
    "\n",
    "Also, since the simulation will be discrete, make t discrete it is easy to make with the function\n",
    "t = np.arange(-5, 5, dt)\n",
    "\n",
    "All initial conditions ($x_a_0$, $AC$ and etc. are determined in the init_mechanism() function.\n",
    "Calculations of all positions for point O, A, B and C are made in the simulate_mechanism() function below.\n",
    "\n",
    "\n",
    "### Function for $\\phi(t)$\n",
    "$\\phi(t) = \\omega * t + \\phi_0$, since $\\phi_0$ is not defined in the task, in mine simulation, I prefer to make $\\phi_0 = 0$\n",
    "\n",
    "### Coordinates of points\n",
    "The point has circular trajectory around point O, so the most easy way to deal with coordinate basis is to make O center of the basis and $\\vec{i}$ and $\\vec{j}$ parallel and perpendicular to the crank's trajectory respectively.\n",
    "#### Point A\n",
    "$$A_x = OA*cos(\\phi)\\\\\n",
    "A_y = OA*sin(\\phi)$$\n",
    "#### Point B\n",
    "To find point B coordinate lets use cosine method:\n",
    "Look at the triangle AOB:\n",
    "$AB^2 = OA^2 + OB^2 - 2OA * OB\\cos(\\phi)$\n",
    "Quadratic equation for OB:\\\n",
    "$OB = \\frac{2*OA*cos(\\phi * t) + \\sqrt{{OA*cos(\\phi * t)}^{2} - OA^{2} + AB^2}}{2}$\n",
    "$$B_x = OB\\\\\n",
    "B_y = 0$$\n",
    "#### Point C\n",
    "To find point C coordinate, use the property of the vectors $\\vec{AB} || \\vec{AC}$, $\\vec{AC} = \\frac{AC}{AB}*\\vec{AB}$\n",
    "$$C_x = A_x + \\vec{AC_x}\\\\\n",
    "C_y = A_y + \\vec{AC_y}$$\n",
    "### Velocities\n",
    "To find velocities, use a np.gradient(all_point_coordinates, dt) function, it returns a vector of change, not so mathematical method, but whatever, there is more understanding than in geogebra's Derivative function (зочем нам 25 степень уничижительно малого коэфициента, если оно не считается!? Тьфу на геогебру)\n",
    "\n",
    "## Accelerations\n",
    "To find accelerations, use the same np.gradient(all_point_velocities, dt) function\n",
    "After that I wanted to find normal and tangent parts, but there is a problem with directions. It can be easily solved with using a formula:\n",
    "$$\\vec{a^\\tau} = \\frac{|\\vec{a}\\times\\vec{v}|}{|\\vec{V}|}*\\vec{\\tau}$$\n",
    "Vector $\\vec{\\tau}$ can be found as $\\frac{\\vec{V}}{|V|}$ since numpy is not saint and moreover is not mine simpy (sympy). So, the additional calculations were needed.\n"
   ],
   "metadata": {
    "collapsed": false,
    "pycharm": {
     "name": "#%% md\n"
    }
   }
  },
  {
   "cell_type": "code",
   "execution_count": 4,
   "outputs": [],
   "source": [
    "dt = 0.016\n",
    "\n",
    "\n",
    "## initialize all predefined parameters of the mechanism and set initial coordinates of points A, B, C\n",
    "def init_mechanism():\n",
    "    OA = 25\n",
    "    AB = 80\n",
    "    AC = 20\n",
    "    omega = 1\n",
    "    t = np.arange(-5, 5, dt)\n",
    "    phi_0 = 0\n",
    "    phi = phi_0 + omega * t\n",
    "    point_O = np.array([0, 0])\n",
    "\n",
    "    coordinate_Ax_0 = 0.0\n",
    "    coordinate_Ay_0 = 25.0\n",
    "\n",
    "    point_A = np.array([coordinate_Ax_0, coordinate_Ay_0])\n",
    "\n",
    "    coordinate_Bx = (OA * cos(phi_0) - np.sqrt(coordinate_Ax_0 ** 2 - OA ** 2 + AB ** 2))\n",
    "    coordinate_By = 0\n",
    "    point_B = np.array([coordinate_Bx, coordinate_By])\n",
    "\n",
    "    vector_ab = point_B - point_A\n",
    "    point_C = np.array([point_A[0] + vector_ab[0] * AC / AB, point_A[1] + vector_ab[1] * AC / AB])\n",
    "    return OA, AB, AC, point_A, point_B, point_C, point_O, t, phi\n",
    "\n",
    "\n",
    "def simulate_mechanism(points_A, points_B, points_C, t, phi, point_O):\n",
    "    ## there u can find all kinematics of the mechanism\n",
    "    for i in range(phi.size):\n",
    "        # A has a circular trajectory around basis centre\n",
    "        coordinate_Ax = OA * cos(phi[i])\n",
    "        coordinate_Ay = OA * sin(phi[i])\n",
    "\n",
    "        point_A = np.array([coordinate_Ax, coordinate_Ay])\n",
    "        points_A = np.append(points_A, [[coordinate_Ax, coordinate_Ay]], axis=0)\n",
    "\n",
    "        # calculate point B coordinates based on the basis with rotated axis such that B_y = 0, using cosine method\n",
    "        coordinate_Bx = (OA * cos(phi[i]) - np.sqrt(coordinate_Ax ** 2 - OA ** 2 + AB ** 2))\n",
    "        coordinate_By = 0\n",
    "\n",
    "        point_B = np.array([coordinate_Bx, coordinate_By])\n",
    "        points_B = np.append(points_B, [[coordinate_Bx, coordinate_By]], axis=0)\n",
    "\n",
    "        #find  point C by vector method\n",
    "        vector_ab = point_B - point_A\n",
    "        points_C = np.append(points_C, [[point_A[0] + vector_ab[0] * AC / AB, point_A[1] + vector_ab[1] * AC / AB]],\n",
    "                             axis=0)\n",
    "    return points_A, points_B, points_C\n",
    "\n",
    "\n",
    "OA, AB, AC, point_A_0, point_B_0, point_C_0, point_O, t, phi = init_mechanism()\n",
    "\n",
    "points_A = np.array([point_A_0])\n",
    "points_B = np.array([point_B_0])\n",
    "points_C = np.array([point_C_0])\n",
    "points_A, points_B, points_C = simulate_mechanism(points_A, points_B, points_C, t, phi, point_O)\n",
    "points_O = np.array([point_O for i in t])"
   ],
   "metadata": {
    "collapsed": false,
    "pycharm": {
     "name": "#%%\n"
    }
   }
  },
  {
   "cell_type": "code",
   "execution_count": 5,
   "outputs": [
    {
     "name": "stdout",
     "output_type": "stream",
     "text": [
      "All calculations are done, you are brilliant! One next step and all is over, u can get some rest, there is no need to hurry\n"
     ]
    }
   ],
   "source": [
    "def find_velocity():\n",
    "    velocities_A = np.gradient(points_A, dt, axis=0)\n",
    "    velocities_B = np.gradient(points_B, dt, axis=0)\n",
    "    velocities_C = np.gradient(points_C, dt, axis=0)\n",
    "    return velocities_A, velocities_B, velocities_C\n",
    "\n",
    "\n",
    "def find_accelerations():\n",
    "    accelerations_A = np.gradient(vels_A, dt, axis=0)\n",
    "    accelerations_B = np.gradient(vels_B, dt, axis=0)\n",
    "    accelerations_C = np.gradient(vels_C, dt, axis=0)\n",
    "    return accelerations_A, accelerations_B, accelerations_C\n",
    "\n",
    "\n",
    "def normalize_acc(acc, vels):\n",
    "    \"\"\" Converts the acceleration into normal and tangent accelerations, based on the velocity direction\"\"\"\n",
    "    # just iterator\n",
    "    i = 0\n",
    "    # tangent vector\n",
    "    tau = np.empty(shape=vels.shape)\n",
    "    # array of tangent accelerations\n",
    "    tang_a = np.empty(shape=vels.shape)\n",
    "    for v in vels:\n",
    "        tau[i] = v / np.linalg.norm(v)\n",
    "        dot = np.dot(acc[i], v)\n",
    "        norm = np.linalg.norm(v)\n",
    "        new_a_t = dot / norm\n",
    "        tang_a[i] = new_a_t * tau[i]\n",
    "        i = i + 1\n",
    "    # the easiest way to find normal acceleration\n",
    "    normal_a = acc - tang_a\n",
    "    return normal_a, tang_a\n",
    "\n",
    "\n",
    "vels_A, vels_B, vels_C = find_velocity()\n",
    "acc_A, acc_B, acc_C = find_accelerations()\n",
    "n_acc_a, t_acc_a = normalize_acc(acc_A, vels_A)\n",
    "n_acc_b, t_acc_b = normalize_acc(acc_B, vels_B)\n",
    "n_acc_c, t_acc_c = normalize_acc(acc_C, vels_C)\n",
    "\n",
    "print(\n",
    "    \"All calculations are done, you are brilliant! One next step and all is over, u can get some rest, there is no need to hurry\")"
   ],
   "metadata": {
    "collapsed": false,
    "pycharm": {
     "name": "#%%\n"
    }
   }
  },
  {
   "cell_type": "code",
   "execution_count": 6,
   "outputs": [
    {
     "name": "stdout",
     "output_type": "stream",
     "text": [
      "Animating 625 frames\n"
     ]
    },
    {
     "name": "stderr",
     "output_type": "stream",
     "text": [
      "/home/asiia/Documents/TMHW1/venv/lib/python3.10/site-packages/matplotlib/text.py:1223: FutureWarning: elementwise comparison failed; returning scalar instead, but in the future will perform elementwise comparison\n",
      "  if s != self._text:\n"
     ]
    },
    {
     "name": "stdout",
     "output_type": "stream",
     "text": [
      "Please, check second_task.mp4 file\n"
     ]
    },
    {
     "data": {
      "text/plain": "<Figure size 800x640 with 4 Axes>",
      "image/png": "[encoded data removed]"
     },
     "metadata": {},
     "output_type": "display_data"
    }
   ],
   "source": [
    "def draw_point(point, point_data, frame):\n",
    "    \"\"\" using matplotlib sets a point data to point note in the format np.array[,] \"\"\"\n",
    "\n",
    "    point.set_data(point_data[frame][0], point_data[frame][1])\n",
    "\n",
    "\n",
    "def draw_line(line, point_start, point_end, frame):\n",
    "    \"\"\" using matplotlib sets point coordinates data to line, to set data use format np.array[,] \"\"\"\n",
    "\n",
    "    line.set_data([point_end[frame][0], point_start[frame][0]],\n",
    "                  [point_end[frame][1], point_start[frame][1]])\n",
    "\n",
    "\n",
    "def draw_vector(vector, vector_data, start_point_data, frame):\n",
    "    \"\"\" using matplotlib sets vector coordinated and add it to a vector's start point to draw it in the right place, to set data use the format np.array[,] \"\"\"\n",
    "\n",
    "    vector.set_data([vector_data[frame][0] + start_point_data[frame][0], start_point_data[frame][0]],\n",
    "                    [vector_data[frame][1] + start_point_data[frame][1], start_point_data[frame][1]])\n",
    "\n",
    "\n",
    "def init():\n",
    "    ## initialise all lines, vectors and all drawing stuff, if u want to see them\n",
    "    point_o.set_data([point_O[0]], [point_O[1]])\n",
    "    return traj_A, traj_C, point_a, point_b, point_c, point_o, ab_ln, ao_ln, av_ln, cv_ln, bv_ln,\\\n",
    "           ana_ln, bna_ln, cna_ln, ata_ln, bta_ln, cta_ln, aa_ln, ba_ln, ca_ln\n",
    "\n",
    "\n",
    "def update(frame):\n",
    "    # coordinates of the point\n",
    "    draw_point(point_a, points_A, frame=frame)\n",
    "    draw_point(point_b, points_B, frame=frame)\n",
    "    draw_point(point_c, points_C, frame=frame)\n",
    "    draw_line(ab_ln, points_A, points_B, frame=frame)\n",
    "    draw_line(ao_ln, points_A, points_O, frame=frame)\n",
    "    draw_vector(av_ln, vels_A, points_A, frame)\n",
    "    draw_vector(bv_ln, vels_B, points_B, frame)\n",
    "    draw_vector(cv_ln, vels_C, points_C, frame)\n",
    "\n",
    "    # here I use point_0, since it is easier to check magnitude,\n",
    "    # if vectors are drawn from (0, 0)\n",
    "    draw_vector(aa_ln, acc_A, points_O, frame)\n",
    "    draw_vector(ba_ln, acc_B, points_O, frame)\n",
    "    draw_vector(ca_ln, acc_C, points_O, frame)\n",
    "    ax2.set_title(n_acc_a[frame])\n",
    "    draw_vector(ana_ln, n_acc_a, points_O, frame)\n",
    "    draw_vector(bna_ln, n_acc_b, points_O, frame)\n",
    "    draw_vector(cna_ln, n_acc_c, points_O, frame)\n",
    "    draw_vector(ata_ln, t_acc_a, points_O, frame)\n",
    "    draw_vector(bta_ln, t_acc_b, points_O, frame)\n",
    "    draw_vector(cta_ln, t_acc_c, points_O, frame)\n",
    "\n",
    "    return point_a, point_b, point_c, point_o, ab_ln, ao_ln,\\\n",
    "           av_ln, cv_ln, bv_ln, ana_ln, bna_ln, cna_ln,\\\n",
    "           ata_ln, bta_ln, cta_ln, aa_ln, ba_ln, ca_ln\n",
    "\n",
    "\n",
    "## set parameters to your plot\n",
    "fig = plt.figure(figsize=(10, 8), dpi=80)\n",
    "# create subplots, if u want to split data into different plots\n",
    "# plot for trajectories and velocities\n",
    "ax1 = fig.add_subplot(3, 3, (1, 6))\n",
    "\n",
    "# plots for accelerations A, B, C\n",
    "ax2 = fig.add_subplot(3, 3, 7)\n",
    "ax3 = fig.add_subplot(3, 3, 8)\n",
    "ax4 = fig.add_subplot(3, 3, 9)\n",
    "ax1.set_xlim(-140, 100)\n",
    "ax1.set_ylim(-140, 100)\n",
    "ax2.set_xlim(-30, 30)\n",
    "ax2.set_ylim(-30, 30)\n",
    "ax3.set_xlim(-30, 30)\n",
    "ax3.set_ylim(-30, 30)\n",
    "ax4.set_xlim(-30, 30)\n",
    "ax4.set_ylim(-30, 30)\n",
    "\n",
    "xdata, ydata = [], []\n",
    "\n",
    "\n",
    "# plot trajectories of C and A points, B is not so interesting one, but if u want...\n",
    "# traj_B = ax1.plot(points_B[:, 0], points_B[:, 1], color=(0.0, 0.0, 0.0, 0.1))\n",
    "\n",
    "traj_A = ax1.plot(points_A[:, 0], points_A[:, 1], color=(0.0, 0.0, 0.0, 0.1))\n",
    "traj_C = ax1.plot(points_C[:, 0], points_C[:, 1], color=(0.0, 0.0, 0.0, 0.1))\n",
    "\n",
    "ab_ln, = ax1.plot([], [], 'orange')\n",
    "ao_ln, = ax1.plot([], [], 'orange')\n",
    "\n",
    "av_ln, = ax1.plot([], [], 'green', label=\"vel A\")\n",
    "cv_ln, = ax1.plot([], [], 'blue', label=\"vel C\")\n",
    "bv_ln, = ax1.plot([], [], 'black', label=\"vel B\")\n",
    "\n",
    "point_a, = ax1.plot([], [], 'go', label=\"point A\")\n",
    "point_b, = ax1.plot([], [], 'bo', label=\"point B\")\n",
    "point_c, = ax1.plot([], [], 'ro', label=\"point C\")\n",
    "point_o, = ax1.plot([], [], 'yo', label=\"point O\")\n",
    "\n",
    "ana_ln, = ax2.plot([], [], 'purple', label=\"norm A\")\n",
    "ata_ln, = ax2.plot([], [], 'red', label=\"tang acc A\")\n",
    "aa_ln, = ax2.plot([], [], 'magenta', label=\"acc A\")\n",
    "\n",
    "bna_ln, = ax3.plot([], [], 'purple', label=\"norm B\")\n",
    "bta_ln, = ax3.plot([], [], 'red', label=\"tang acc B\")\n",
    "ba_ln, = ax3.plot([], [], 'magenta', label=\"acc B\")\n",
    "\n",
    "cta_ln, = ax4.plot([], [], 'red', label=\"tang acc C\")\n",
    "cna_ln, = ax4.plot([], [], 'purple', label=\"norm C\")\n",
    "ca_ln, = ax4.plot([], [], 'magenta', label=\"acc C\")\n",
    "\n",
    "\n",
    "ax1.legend()\n",
    "ax2.legend()\n",
    "ax3.legend()\n",
    "fig.bbox_to_anchor = (0.65, 1.25)\n",
    "fig.supxlabel(\"x, m\")\n",
    "fig.supylabel(\"y, m\")\n",
    "print(f'Animating {t.size} frames')\n",
    "ani = FuncAnimation(fig, update, frames=np.arange(0, t.size, 1),\n",
    "# ani = FuncAnimation(fig, update, frames=np.arange(0, 10, 1),\n",
    "                    init_func=init, interval=16, blit=False)\n",
    "\n",
    "# init()\n",
    "# update(0)\n",
    "\n",
    "# ani.save(\"second_task.gif\")\n",
    "ani.save(\"second_task.mp4\")\n",
    "\n",
    "print(\"Please, check second_task.mp4 file\")\n",
    "# plt.show()"
   ],
   "metadata": {
    "collapsed": false,
    "pycharm": {
     "name": "#%%\n"
    }
   }
  },
  {
   "cell_type": "code",
   "execution_count": null,
   "outputs": [],
   "source": [],
   "metadata": {
    "collapsed": false,
    "pycharm": {
     "name": "#%%\n"
    }
   }
  }
 ],
 "metadata": {
  "kernelspec": {
   "display_name": "Python 3",
   "language": "python",
   "name": "python3"
  },
  "language_info": {
   "codemirror_mode": {
    "name": "ipython",
    "version": 2
   },
   "file_extension": ".py",
   "mimetype": "text/x-python",
   "name": "python",
   "nbconvert_exporter": "python",
   "pygments_lexer": "ipython2",
   "version": "2.7.6"
  }
 },
 "nbformat": 4,
 "nbformat_minor": 0
}